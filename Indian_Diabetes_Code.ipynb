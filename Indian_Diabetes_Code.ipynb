{
 "cells": [
  {
   "cell_type": "code",
   "execution_count": 55,
   "metadata": {},
   "outputs": [],
   "source": [
    "#Importing dataset\n",
    "import numpy as np\n",
    "import matplotlib.pyplot as plt  \n",
    "import pandas as pd\n",
    "import seaborn as sns\n"
   ]
  },
  {
   "cell_type": "markdown",
   "metadata": {},
   "source": [
    "# Loading Dataset"
   ]
  },
  {
   "cell_type": "code",
   "execution_count": 56,
   "metadata": {},
   "outputs": [
    {
     "name": "stdout",
     "output_type": "stream",
     "text": [
      "Successfully Imported Data!\n"
     ]
    },
    {
     "data": {
      "text/html": [
       "<div>\n",
       "<style scoped>\n",
       "    .dataframe tbody tr th:only-of-type {\n",
       "        vertical-align: middle;\n",
       "    }\n",
       "\n",
       "    .dataframe tbody tr th {\n",
       "        vertical-align: top;\n",
       "    }\n",
       "\n",
       "    .dataframe thead th {\n",
       "        text-align: right;\n",
       "    }\n",
       "</style>\n",
       "<table border=\"1\" class=\"dataframe\">\n",
       "  <thead>\n",
       "    <tr style=\"text-align: right;\">\n",
       "      <th></th>\n",
       "      <th>Pregnancies</th>\n",
       "      <th>Glucose</th>\n",
       "      <th>BloodPressure</th>\n",
       "      <th>SkinThickness</th>\n",
       "      <th>Insulin</th>\n",
       "      <th>BMI</th>\n",
       "      <th>DiabetesPedigreeFunction</th>\n",
       "      <th>Age</th>\n",
       "      <th>Outcome</th>\n",
       "    </tr>\n",
       "  </thead>\n",
       "  <tbody>\n",
       "    <tr>\n",
       "      <th>0</th>\n",
       "      <td>6</td>\n",
       "      <td>148</td>\n",
       "      <td>72</td>\n",
       "      <td>35</td>\n",
       "      <td>0</td>\n",
       "      <td>33.6</td>\n",
       "      <td>0.627</td>\n",
       "      <td>50</td>\n",
       "      <td>1</td>\n",
       "    </tr>\n",
       "    <tr>\n",
       "      <th>1</th>\n",
       "      <td>1</td>\n",
       "      <td>85</td>\n",
       "      <td>66</td>\n",
       "      <td>29</td>\n",
       "      <td>0</td>\n",
       "      <td>26.6</td>\n",
       "      <td>0.351</td>\n",
       "      <td>31</td>\n",
       "      <td>0</td>\n",
       "    </tr>\n",
       "    <tr>\n",
       "      <th>2</th>\n",
       "      <td>8</td>\n",
       "      <td>183</td>\n",
       "      <td>64</td>\n",
       "      <td>0</td>\n",
       "      <td>0</td>\n",
       "      <td>23.3</td>\n",
       "      <td>0.672</td>\n",
       "      <td>32</td>\n",
       "      <td>1</td>\n",
       "    </tr>\n",
       "    <tr>\n",
       "      <th>3</th>\n",
       "      <td>1</td>\n",
       "      <td>89</td>\n",
       "      <td>66</td>\n",
       "      <td>23</td>\n",
       "      <td>94</td>\n",
       "      <td>28.1</td>\n",
       "      <td>0.167</td>\n",
       "      <td>21</td>\n",
       "      <td>0</td>\n",
       "    </tr>\n",
       "    <tr>\n",
       "      <th>4</th>\n",
       "      <td>0</td>\n",
       "      <td>137</td>\n",
       "      <td>40</td>\n",
       "      <td>35</td>\n",
       "      <td>168</td>\n",
       "      <td>43.1</td>\n",
       "      <td>2.288</td>\n",
       "      <td>33</td>\n",
       "      <td>1</td>\n",
       "    </tr>\n",
       "  </tbody>\n",
       "</table>\n",
       "</div>"
      ],
      "text/plain": [
       "   Pregnancies  Glucose  BloodPressure  SkinThickness  Insulin   BMI  \\\n",
       "0            6      148             72             35        0  33.6   \n",
       "1            1       85             66             29        0  26.6   \n",
       "2            8      183             64              0        0  23.3   \n",
       "3            1       89             66             23       94  28.1   \n",
       "4            0      137             40             35      168  43.1   \n",
       "\n",
       "   DiabetesPedigreeFunction  Age  Outcome  \n",
       "0                     0.627   50        1  \n",
       "1                     0.351   31        0  \n",
       "2                     0.672   32        1  \n",
       "3                     0.167   21        0  \n",
       "4                     2.288   33        1  "
      ]
     },
     "execution_count": 56,
     "metadata": {},
     "output_type": "execute_result"
    }
   ],
   "source": [
    "data = pd.read_csv(\"diabetes.csv\")\n",
    "print(\"Successfully Imported Data!\")\n",
    "data.head()"
   ]
  },
  {
   "cell_type": "code",
   "execution_count": 57,
   "metadata": {},
   "outputs": [
    {
     "name": "stdout",
     "output_type": "stream",
     "text": [
      "(768, 9)\n"
     ]
    }
   ],
   "source": [
    "print(data.shape)"
   ]
  },
  {
   "cell_type": "markdown",
   "metadata": {},
   "source": [
    "# Description"
   ]
  },
  {
   "cell_type": "code",
   "execution_count": 58,
   "metadata": {},
   "outputs": [
    {
     "data": {
      "text/html": [
       "<div>\n",
       "<style scoped>\n",
       "    .dataframe tbody tr th:only-of-type {\n",
       "        vertical-align: middle;\n",
       "    }\n",
       "\n",
       "    .dataframe tbody tr th {\n",
       "        vertical-align: top;\n",
       "    }\n",
       "\n",
       "    .dataframe thead th {\n",
       "        text-align: right;\n",
       "    }\n",
       "</style>\n",
       "<table border=\"1\" class=\"dataframe\">\n",
       "  <thead>\n",
       "    <tr style=\"text-align: right;\">\n",
       "      <th></th>\n",
       "      <th>Pregnancies</th>\n",
       "      <th>Glucose</th>\n",
       "      <th>BloodPressure</th>\n",
       "      <th>SkinThickness</th>\n",
       "      <th>Insulin</th>\n",
       "      <th>BMI</th>\n",
       "      <th>DiabetesPedigreeFunction</th>\n",
       "      <th>Age</th>\n",
       "      <th>Outcome</th>\n",
       "    </tr>\n",
       "  </thead>\n",
       "  <tbody>\n",
       "    <tr>\n",
       "      <th>count</th>\n",
       "      <td>768.000000</td>\n",
       "      <td>768.000000</td>\n",
       "      <td>768.000000</td>\n",
       "      <td>768.000000</td>\n",
       "      <td>768.000000</td>\n",
       "      <td>768.000000</td>\n",
       "      <td>768.000000</td>\n",
       "      <td>768.000000</td>\n",
       "      <td>768.000000</td>\n",
       "    </tr>\n",
       "    <tr>\n",
       "      <th>mean</th>\n",
       "      <td>3.845052</td>\n",
       "      <td>120.894531</td>\n",
       "      <td>69.105469</td>\n",
       "      <td>20.536458</td>\n",
       "      <td>79.799479</td>\n",
       "      <td>31.992578</td>\n",
       "      <td>0.471876</td>\n",
       "      <td>33.240885</td>\n",
       "      <td>0.348958</td>\n",
       "    </tr>\n",
       "    <tr>\n",
       "      <th>std</th>\n",
       "      <td>3.369578</td>\n",
       "      <td>31.972618</td>\n",
       "      <td>19.355807</td>\n",
       "      <td>15.952218</td>\n",
       "      <td>115.244002</td>\n",
       "      <td>7.884160</td>\n",
       "      <td>0.331329</td>\n",
       "      <td>11.760232</td>\n",
       "      <td>0.476951</td>\n",
       "    </tr>\n",
       "    <tr>\n",
       "      <th>min</th>\n",
       "      <td>0.000000</td>\n",
       "      <td>0.000000</td>\n",
       "      <td>0.000000</td>\n",
       "      <td>0.000000</td>\n",
       "      <td>0.000000</td>\n",
       "      <td>0.000000</td>\n",
       "      <td>0.078000</td>\n",
       "      <td>21.000000</td>\n",
       "      <td>0.000000</td>\n",
       "    </tr>\n",
       "    <tr>\n",
       "      <th>25%</th>\n",
       "      <td>1.000000</td>\n",
       "      <td>99.000000</td>\n",
       "      <td>62.000000</td>\n",
       "      <td>0.000000</td>\n",
       "      <td>0.000000</td>\n",
       "      <td>27.300000</td>\n",
       "      <td>0.243750</td>\n",
       "      <td>24.000000</td>\n",
       "      <td>0.000000</td>\n",
       "    </tr>\n",
       "    <tr>\n",
       "      <th>50%</th>\n",
       "      <td>3.000000</td>\n",
       "      <td>117.000000</td>\n",
       "      <td>72.000000</td>\n",
       "      <td>23.000000</td>\n",
       "      <td>30.500000</td>\n",
       "      <td>32.000000</td>\n",
       "      <td>0.372500</td>\n",
       "      <td>29.000000</td>\n",
       "      <td>0.000000</td>\n",
       "    </tr>\n",
       "    <tr>\n",
       "      <th>75%</th>\n",
       "      <td>6.000000</td>\n",
       "      <td>140.250000</td>\n",
       "      <td>80.000000</td>\n",
       "      <td>32.000000</td>\n",
       "      <td>127.250000</td>\n",
       "      <td>36.600000</td>\n",
       "      <td>0.626250</td>\n",
       "      <td>41.000000</td>\n",
       "      <td>1.000000</td>\n",
       "    </tr>\n",
       "    <tr>\n",
       "      <th>max</th>\n",
       "      <td>17.000000</td>\n",
       "      <td>199.000000</td>\n",
       "      <td>122.000000</td>\n",
       "      <td>99.000000</td>\n",
       "      <td>846.000000</td>\n",
       "      <td>67.100000</td>\n",
       "      <td>2.420000</td>\n",
       "      <td>81.000000</td>\n",
       "      <td>1.000000</td>\n",
       "    </tr>\n",
       "  </tbody>\n",
       "</table>\n",
       "</div>"
      ],
      "text/plain": [
       "       Pregnancies     Glucose  BloodPressure  SkinThickness     Insulin  \\\n",
       "count   768.000000  768.000000     768.000000     768.000000  768.000000   \n",
       "mean      3.845052  120.894531      69.105469      20.536458   79.799479   \n",
       "std       3.369578   31.972618      19.355807      15.952218  115.244002   \n",
       "min       0.000000    0.000000       0.000000       0.000000    0.000000   \n",
       "25%       1.000000   99.000000      62.000000       0.000000    0.000000   \n",
       "50%       3.000000  117.000000      72.000000      23.000000   30.500000   \n",
       "75%       6.000000  140.250000      80.000000      32.000000  127.250000   \n",
       "max      17.000000  199.000000     122.000000      99.000000  846.000000   \n",
       "\n",
       "              BMI  DiabetesPedigreeFunction         Age     Outcome  \n",
       "count  768.000000                768.000000  768.000000  768.000000  \n",
       "mean    31.992578                  0.471876   33.240885    0.348958  \n",
       "std      7.884160                  0.331329   11.760232    0.476951  \n",
       "min      0.000000                  0.078000   21.000000    0.000000  \n",
       "25%     27.300000                  0.243750   24.000000    0.000000  \n",
       "50%     32.000000                  0.372500   29.000000    0.000000  \n",
       "75%     36.600000                  0.626250   41.000000    1.000000  \n",
       "max     67.100000                  2.420000   81.000000    1.000000  "
      ]
     },
     "execution_count": 58,
     "metadata": {},
     "output_type": "execute_result"
    }
   ],
   "source": [
    "data.describe(include='all')"
   ]
  },
  {
   "cell_type": "markdown",
   "metadata": {},
   "source": [
    "# Finding Null Values"
   ]
  },
  {
   "cell_type": "code",
   "execution_count": 59,
   "metadata": {},
   "outputs": [
    {
     "name": "stdout",
     "output_type": "stream",
     "text": [
      "Pregnancies                 0\n",
      "Glucose                     0\n",
      "BloodPressure               0\n",
      "SkinThickness               0\n",
      "Insulin                     0\n",
      "BMI                         0\n",
      "DiabetesPedigreeFunction    0\n",
      "Age                         0\n",
      "Outcome                     0\n",
      "dtype: int64\n"
     ]
    }
   ],
   "source": [
    "print(data.isna().sum())"
   ]
  },
  {
   "cell_type": "code",
   "execution_count": 60,
   "metadata": {},
   "outputs": [
    {
     "data": {
      "text/html": [
       "<div>\n",
       "<style scoped>\n",
       "    .dataframe tbody tr th:only-of-type {\n",
       "        vertical-align: middle;\n",
       "    }\n",
       "\n",
       "    .dataframe tbody tr th {\n",
       "        vertical-align: top;\n",
       "    }\n",
       "\n",
       "    .dataframe thead th {\n",
       "        text-align: right;\n",
       "    }\n",
       "</style>\n",
       "<table border=\"1\" class=\"dataframe\">\n",
       "  <thead>\n",
       "    <tr style=\"text-align: right;\">\n",
       "      <th></th>\n",
       "      <th>Pregnancies</th>\n",
       "      <th>Glucose</th>\n",
       "      <th>BloodPressure</th>\n",
       "      <th>SkinThickness</th>\n",
       "      <th>Insulin</th>\n",
       "      <th>BMI</th>\n",
       "      <th>DiabetesPedigreeFunction</th>\n",
       "      <th>Age</th>\n",
       "      <th>Outcome</th>\n",
       "    </tr>\n",
       "  </thead>\n",
       "  <tbody>\n",
       "    <tr>\n",
       "      <th>Pregnancies</th>\n",
       "      <td>1.000000</td>\n",
       "      <td>0.129459</td>\n",
       "      <td>0.141282</td>\n",
       "      <td>-0.081672</td>\n",
       "      <td>-0.073535</td>\n",
       "      <td>0.017683</td>\n",
       "      <td>-0.033523</td>\n",
       "      <td>0.544341</td>\n",
       "      <td>0.221898</td>\n",
       "    </tr>\n",
       "    <tr>\n",
       "      <th>Glucose</th>\n",
       "      <td>0.129459</td>\n",
       "      <td>1.000000</td>\n",
       "      <td>0.152590</td>\n",
       "      <td>0.057328</td>\n",
       "      <td>0.331357</td>\n",
       "      <td>0.221071</td>\n",
       "      <td>0.137337</td>\n",
       "      <td>0.263514</td>\n",
       "      <td>0.466581</td>\n",
       "    </tr>\n",
       "    <tr>\n",
       "      <th>BloodPressure</th>\n",
       "      <td>0.141282</td>\n",
       "      <td>0.152590</td>\n",
       "      <td>1.000000</td>\n",
       "      <td>0.207371</td>\n",
       "      <td>0.088933</td>\n",
       "      <td>0.281805</td>\n",
       "      <td>0.041265</td>\n",
       "      <td>0.239528</td>\n",
       "      <td>0.065068</td>\n",
       "    </tr>\n",
       "    <tr>\n",
       "      <th>SkinThickness</th>\n",
       "      <td>-0.081672</td>\n",
       "      <td>0.057328</td>\n",
       "      <td>0.207371</td>\n",
       "      <td>1.000000</td>\n",
       "      <td>0.436783</td>\n",
       "      <td>0.392573</td>\n",
       "      <td>0.183928</td>\n",
       "      <td>-0.113970</td>\n",
       "      <td>0.074752</td>\n",
       "    </tr>\n",
       "    <tr>\n",
       "      <th>Insulin</th>\n",
       "      <td>-0.073535</td>\n",
       "      <td>0.331357</td>\n",
       "      <td>0.088933</td>\n",
       "      <td>0.436783</td>\n",
       "      <td>1.000000</td>\n",
       "      <td>0.197859</td>\n",
       "      <td>0.185071</td>\n",
       "      <td>-0.042163</td>\n",
       "      <td>0.130548</td>\n",
       "    </tr>\n",
       "    <tr>\n",
       "      <th>BMI</th>\n",
       "      <td>0.017683</td>\n",
       "      <td>0.221071</td>\n",
       "      <td>0.281805</td>\n",
       "      <td>0.392573</td>\n",
       "      <td>0.197859</td>\n",
       "      <td>1.000000</td>\n",
       "      <td>0.140647</td>\n",
       "      <td>0.036242</td>\n",
       "      <td>0.292695</td>\n",
       "    </tr>\n",
       "    <tr>\n",
       "      <th>DiabetesPedigreeFunction</th>\n",
       "      <td>-0.033523</td>\n",
       "      <td>0.137337</td>\n",
       "      <td>0.041265</td>\n",
       "      <td>0.183928</td>\n",
       "      <td>0.185071</td>\n",
       "      <td>0.140647</td>\n",
       "      <td>1.000000</td>\n",
       "      <td>0.033561</td>\n",
       "      <td>0.173844</td>\n",
       "    </tr>\n",
       "    <tr>\n",
       "      <th>Age</th>\n",
       "      <td>0.544341</td>\n",
       "      <td>0.263514</td>\n",
       "      <td>0.239528</td>\n",
       "      <td>-0.113970</td>\n",
       "      <td>-0.042163</td>\n",
       "      <td>0.036242</td>\n",
       "      <td>0.033561</td>\n",
       "      <td>1.000000</td>\n",
       "      <td>0.238356</td>\n",
       "    </tr>\n",
       "    <tr>\n",
       "      <th>Outcome</th>\n",
       "      <td>0.221898</td>\n",
       "      <td>0.466581</td>\n",
       "      <td>0.065068</td>\n",
       "      <td>0.074752</td>\n",
       "      <td>0.130548</td>\n",
       "      <td>0.292695</td>\n",
       "      <td>0.173844</td>\n",
       "      <td>0.238356</td>\n",
       "      <td>1.000000</td>\n",
       "    </tr>\n",
       "  </tbody>\n",
       "</table>\n",
       "</div>"
      ],
      "text/plain": [
       "                          Pregnancies   Glucose  BloodPressure  SkinThickness  \\\n",
       "Pregnancies                  1.000000  0.129459       0.141282      -0.081672   \n",
       "Glucose                      0.129459  1.000000       0.152590       0.057328   \n",
       "BloodPressure                0.141282  0.152590       1.000000       0.207371   \n",
       "SkinThickness               -0.081672  0.057328       0.207371       1.000000   \n",
       "Insulin                     -0.073535  0.331357       0.088933       0.436783   \n",
       "BMI                          0.017683  0.221071       0.281805       0.392573   \n",
       "DiabetesPedigreeFunction    -0.033523  0.137337       0.041265       0.183928   \n",
       "Age                          0.544341  0.263514       0.239528      -0.113970   \n",
       "Outcome                      0.221898  0.466581       0.065068       0.074752   \n",
       "\n",
       "                           Insulin       BMI  DiabetesPedigreeFunction  \\\n",
       "Pregnancies              -0.073535  0.017683                 -0.033523   \n",
       "Glucose                   0.331357  0.221071                  0.137337   \n",
       "BloodPressure             0.088933  0.281805                  0.041265   \n",
       "SkinThickness             0.436783  0.392573                  0.183928   \n",
       "Insulin                   1.000000  0.197859                  0.185071   \n",
       "BMI                       0.197859  1.000000                  0.140647   \n",
       "DiabetesPedigreeFunction  0.185071  0.140647                  1.000000   \n",
       "Age                      -0.042163  0.036242                  0.033561   \n",
       "Outcome                   0.130548  0.292695                  0.173844   \n",
       "\n",
       "                               Age   Outcome  \n",
       "Pregnancies               0.544341  0.221898  \n",
       "Glucose                   0.263514  0.466581  \n",
       "BloodPressure             0.239528  0.065068  \n",
       "SkinThickness            -0.113970  0.074752  \n",
       "Insulin                  -0.042163  0.130548  \n",
       "BMI                       0.036242  0.292695  \n",
       "DiabetesPedigreeFunction  0.033561  0.173844  \n",
       "Age                       1.000000  0.238356  \n",
       "Outcome                   0.238356  1.000000  "
      ]
     },
     "execution_count": 60,
     "metadata": {},
     "output_type": "execute_result"
    }
   ],
   "source": [
    "data.corr()"
   ]
  },
  {
   "cell_type": "code",
   "execution_count": 61,
   "metadata": {},
   "outputs": [
    {
     "data": {
      "text/html": [
       "<div>\n",
       "<style scoped>\n",
       "    .dataframe tbody tr th:only-of-type {\n",
       "        vertical-align: middle;\n",
       "    }\n",
       "\n",
       "    .dataframe tbody tr th {\n",
       "        vertical-align: top;\n",
       "    }\n",
       "\n",
       "    .dataframe thead th {\n",
       "        text-align: right;\n",
       "    }\n",
       "</style>\n",
       "<table border=\"1\" class=\"dataframe\">\n",
       "  <thead>\n",
       "    <tr style=\"text-align: right;\">\n",
       "      <th></th>\n",
       "      <th>Pregnancies</th>\n",
       "      <th>Glucose</th>\n",
       "      <th>BloodPressure</th>\n",
       "      <th>SkinThickness</th>\n",
       "      <th>Insulin</th>\n",
       "      <th>BMI</th>\n",
       "      <th>DiabetesPedigreeFunction</th>\n",
       "      <th>Outcome</th>\n",
       "    </tr>\n",
       "    <tr>\n",
       "      <th>Age</th>\n",
       "      <th></th>\n",
       "      <th></th>\n",
       "      <th></th>\n",
       "      <th></th>\n",
       "      <th></th>\n",
       "      <th></th>\n",
       "      <th></th>\n",
       "      <th></th>\n",
       "    </tr>\n",
       "  </thead>\n",
       "  <tbody>\n",
       "    <tr>\n",
       "      <th>21</th>\n",
       "      <td>1.079365</td>\n",
       "      <td>108.317460</td>\n",
       "      <td>65.936508</td>\n",
       "      <td>19.349206</td>\n",
       "      <td>73.634921</td>\n",
       "      <td>27.817460</td>\n",
       "      <td>0.433825</td>\n",
       "      <td>0.079365</td>\n",
       "    </tr>\n",
       "    <tr>\n",
       "      <th>22</th>\n",
       "      <td>1.555556</td>\n",
       "      <td>108.208333</td>\n",
       "      <td>63.722222</td>\n",
       "      <td>20.486111</td>\n",
       "      <td>74.486111</td>\n",
       "      <td>29.509722</td>\n",
       "      <td>0.430625</td>\n",
       "      <td>0.152778</td>\n",
       "    </tr>\n",
       "    <tr>\n",
       "      <th>23</th>\n",
       "      <td>1.578947</td>\n",
       "      <td>111.578947</td>\n",
       "      <td>64.315789</td>\n",
       "      <td>22.368421</td>\n",
       "      <td>118.026316</td>\n",
       "      <td>31.502632</td>\n",
       "      <td>0.438579</td>\n",
       "      <td>0.184211</td>\n",
       "    </tr>\n",
       "    <tr>\n",
       "      <th>24</th>\n",
       "      <td>1.891304</td>\n",
       "      <td>117.891304</td>\n",
       "      <td>64.956522</td>\n",
       "      <td>25.934783</td>\n",
       "      <td>88.021739</td>\n",
       "      <td>32.569565</td>\n",
       "      <td>0.393565</td>\n",
       "      <td>0.173913</td>\n",
       "    </tr>\n",
       "    <tr>\n",
       "      <th>25</th>\n",
       "      <td>1.770833</td>\n",
       "      <td>110.083333</td>\n",
       "      <td>59.666667</td>\n",
       "      <td>23.958333</td>\n",
       "      <td>82.895833</td>\n",
       "      <td>31.943750</td>\n",
       "      <td>0.600500</td>\n",
       "      <td>0.291667</td>\n",
       "    </tr>\n",
       "    <tr>\n",
       "      <th>26</th>\n",
       "      <td>1.969697</td>\n",
       "      <td>118.212121</td>\n",
       "      <td>64.181818</td>\n",
       "      <td>23.666667</td>\n",
       "      <td>90.878788</td>\n",
       "      <td>34.915152</td>\n",
       "      <td>0.413455</td>\n",
       "      <td>0.242424</td>\n",
       "    </tr>\n",
       "    <tr>\n",
       "      <th>27</th>\n",
       "      <td>2.562500</td>\n",
       "      <td>115.281250</td>\n",
       "      <td>73.500000</td>\n",
       "      <td>18.375000</td>\n",
       "      <td>63.125000</td>\n",
       "      <td>31.950000</td>\n",
       "      <td>0.471750</td>\n",
       "      <td>0.250000</td>\n",
       "    </tr>\n",
       "    <tr>\n",
       "      <th>28</th>\n",
       "      <td>3.028571</td>\n",
       "      <td>119.914286</td>\n",
       "      <td>68.314286</td>\n",
       "      <td>23.628571</td>\n",
       "      <td>94.600000</td>\n",
       "      <td>33.642857</td>\n",
       "      <td>0.459629</td>\n",
       "      <td>0.285714</td>\n",
       "    </tr>\n",
       "    <tr>\n",
       "      <th>29</th>\n",
       "      <td>3.310345</td>\n",
       "      <td>127.379310</td>\n",
       "      <td>68.241379</td>\n",
       "      <td>21.000000</td>\n",
       "      <td>88.793103</td>\n",
       "      <td>33.541379</td>\n",
       "      <td>0.408897</td>\n",
       "      <td>0.448276</td>\n",
       "    </tr>\n",
       "    <tr>\n",
       "      <th>30</th>\n",
       "      <td>3.619048</td>\n",
       "      <td>122.285714</td>\n",
       "      <td>64.857143</td>\n",
       "      <td>18.904762</td>\n",
       "      <td>82.666667</td>\n",
       "      <td>30.033333</td>\n",
       "      <td>0.367238</td>\n",
       "      <td>0.285714</td>\n",
       "    </tr>\n",
       "    <tr>\n",
       "      <th>31</th>\n",
       "      <td>3.875000</td>\n",
       "      <td>126.958333</td>\n",
       "      <td>64.375000</td>\n",
       "      <td>20.000000</td>\n",
       "      <td>111.166667</td>\n",
       "      <td>34.016667</td>\n",
       "      <td>0.589583</td>\n",
       "      <td>0.541667</td>\n",
       "    </tr>\n",
       "    <tr>\n",
       "      <th>32</th>\n",
       "      <td>4.437500</td>\n",
       "      <td>116.312500</td>\n",
       "      <td>70.062500</td>\n",
       "      <td>18.187500</td>\n",
       "      <td>35.812500</td>\n",
       "      <td>32.318750</td>\n",
       "      <td>0.613250</td>\n",
       "      <td>0.562500</td>\n",
       "    </tr>\n",
       "    <tr>\n",
       "      <th>33</th>\n",
       "      <td>4.058824</td>\n",
       "      <td>122.882353</td>\n",
       "      <td>65.647059</td>\n",
       "      <td>21.705882</td>\n",
       "      <td>85.588235</td>\n",
       "      <td>32.335294</td>\n",
       "      <td>0.734176</td>\n",
       "      <td>0.588235</td>\n",
       "    </tr>\n",
       "    <tr>\n",
       "      <th>34</th>\n",
       "      <td>5.857143</td>\n",
       "      <td>131.857143</td>\n",
       "      <td>74.000000</td>\n",
       "      <td>18.714286</td>\n",
       "      <td>148.071429</td>\n",
       "      <td>31.164286</td>\n",
       "      <td>0.649857</td>\n",
       "      <td>0.285714</td>\n",
       "    </tr>\n",
       "    <tr>\n",
       "      <th>35</th>\n",
       "      <td>5.000000</td>\n",
       "      <td>121.400000</td>\n",
       "      <td>75.600000</td>\n",
       "      <td>22.600000</td>\n",
       "      <td>75.000000</td>\n",
       "      <td>33.780000</td>\n",
       "      <td>0.454000</td>\n",
       "      <td>0.500000</td>\n",
       "    </tr>\n",
       "    <tr>\n",
       "      <th>36</th>\n",
       "      <td>5.187500</td>\n",
       "      <td>132.437500</td>\n",
       "      <td>69.125000</td>\n",
       "      <td>19.187500</td>\n",
       "      <td>65.812500</td>\n",
       "      <td>31.718750</td>\n",
       "      <td>0.472875</td>\n",
       "      <td>0.625000</td>\n",
       "    </tr>\n",
       "    <tr>\n",
       "      <th>37</th>\n",
       "      <td>5.263158</td>\n",
       "      <td>130.157895</td>\n",
       "      <td>75.947368</td>\n",
       "      <td>18.315789</td>\n",
       "      <td>59.263158</td>\n",
       "      <td>32.078947</td>\n",
       "      <td>0.414632</td>\n",
       "      <td>0.315789</td>\n",
       "    </tr>\n",
       "    <tr>\n",
       "      <th>38</th>\n",
       "      <td>6.875000</td>\n",
       "      <td>121.125000</td>\n",
       "      <td>71.125000</td>\n",
       "      <td>19.625000</td>\n",
       "      <td>33.500000</td>\n",
       "      <td>35.568750</td>\n",
       "      <td>0.413938</td>\n",
       "      <td>0.625000</td>\n",
       "    </tr>\n",
       "    <tr>\n",
       "      <th>39</th>\n",
       "      <td>7.416667</td>\n",
       "      <td>126.750000</td>\n",
       "      <td>72.666667</td>\n",
       "      <td>26.083333</td>\n",
       "      <td>72.416667</td>\n",
       "      <td>31.983333</td>\n",
       "      <td>0.605917</td>\n",
       "      <td>0.250000</td>\n",
       "    </tr>\n",
       "    <tr>\n",
       "      <th>40</th>\n",
       "      <td>6.230769</td>\n",
       "      <td>130.923077</td>\n",
       "      <td>69.230769</td>\n",
       "      <td>24.230769</td>\n",
       "      <td>72.307692</td>\n",
       "      <td>33.538462</td>\n",
       "      <td>0.376077</td>\n",
       "      <td>0.461538</td>\n",
       "    </tr>\n",
       "    <tr>\n",
       "      <th>41</th>\n",
       "      <td>6.500000</td>\n",
       "      <td>129.090909</td>\n",
       "      <td>67.590909</td>\n",
       "      <td>17.409091</td>\n",
       "      <td>38.818182</td>\n",
       "      <td>35.259091</td>\n",
       "      <td>0.396273</td>\n",
       "      <td>0.590909</td>\n",
       "    </tr>\n",
       "    <tr>\n",
       "      <th>42</th>\n",
       "      <td>6.888889</td>\n",
       "      <td>109.555556</td>\n",
       "      <td>73.388889</td>\n",
       "      <td>19.222222</td>\n",
       "      <td>61.277778</td>\n",
       "      <td>34.983333</td>\n",
       "      <td>0.388000</td>\n",
       "      <td>0.388889</td>\n",
       "    </tr>\n",
       "    <tr>\n",
       "      <th>43</th>\n",
       "      <td>7.769231</td>\n",
       "      <td>133.000000</td>\n",
       "      <td>78.461538</td>\n",
       "      <td>27.846154</td>\n",
       "      <td>125.153846</td>\n",
       "      <td>36.892308</td>\n",
       "      <td>0.450846</td>\n",
       "      <td>0.846154</td>\n",
       "    </tr>\n",
       "    <tr>\n",
       "      <th>44</th>\n",
       "      <td>7.250000</td>\n",
       "      <td>124.375000</td>\n",
       "      <td>61.750000</td>\n",
       "      <td>4.625000</td>\n",
       "      <td>32.250000</td>\n",
       "      <td>34.162500</td>\n",
       "      <td>0.668375</td>\n",
       "      <td>0.625000</td>\n",
       "    </tr>\n",
       "    <tr>\n",
       "      <th>45</th>\n",
       "      <td>7.333333</td>\n",
       "      <td>131.200000</td>\n",
       "      <td>83.066667</td>\n",
       "      <td>20.600000</td>\n",
       "      <td>31.133333</td>\n",
       "      <td>34.960000</td>\n",
       "      <td>0.496467</td>\n",
       "      <td>0.533333</td>\n",
       "    </tr>\n",
       "    <tr>\n",
       "      <th>46</th>\n",
       "      <td>6.384615</td>\n",
       "      <td>105.923077</td>\n",
       "      <td>76.000000</td>\n",
       "      <td>24.153846</td>\n",
       "      <td>112.307692</td>\n",
       "      <td>34.523077</td>\n",
       "      <td>0.426846</td>\n",
       "      <td>0.538462</td>\n",
       "    </tr>\n",
       "    <tr>\n",
       "      <th>47</th>\n",
       "      <td>8.333333</td>\n",
       "      <td>137.000000</td>\n",
       "      <td>78.333333</td>\n",
       "      <td>14.500000</td>\n",
       "      <td>49.166667</td>\n",
       "      <td>34.566667</td>\n",
       "      <td>0.355333</td>\n",
       "      <td>0.666667</td>\n",
       "    </tr>\n",
       "    <tr>\n",
       "      <th>48</th>\n",
       "      <td>8.800000</td>\n",
       "      <td>107.600000</td>\n",
       "      <td>78.400000</td>\n",
       "      <td>23.400000</td>\n",
       "      <td>52.000000</td>\n",
       "      <td>29.980000</td>\n",
       "      <td>0.456800</td>\n",
       "      <td>0.200000</td>\n",
       "    </tr>\n",
       "    <tr>\n",
       "      <th>49</th>\n",
       "      <td>7.600000</td>\n",
       "      <td>153.000000</td>\n",
       "      <td>81.400000</td>\n",
       "      <td>21.600000</td>\n",
       "      <td>55.200000</td>\n",
       "      <td>32.020000</td>\n",
       "      <td>0.612000</td>\n",
       "      <td>0.600000</td>\n",
       "    </tr>\n",
       "    <tr>\n",
       "      <th>50</th>\n",
       "      <td>6.750000</td>\n",
       "      <td>138.250000</td>\n",
       "      <td>78.250000</td>\n",
       "      <td>16.000000</td>\n",
       "      <td>26.375000</td>\n",
       "      <td>31.225000</td>\n",
       "      <td>0.470125</td>\n",
       "      <td>0.625000</td>\n",
       "    </tr>\n",
       "    <tr>\n",
       "      <th>51</th>\n",
       "      <td>8.625000</td>\n",
       "      <td>147.625000</td>\n",
       "      <td>84.500000</td>\n",
       "      <td>21.875000</td>\n",
       "      <td>129.375000</td>\n",
       "      <td>33.975000</td>\n",
       "      <td>0.615250</td>\n",
       "      <td>0.625000</td>\n",
       "    </tr>\n",
       "    <tr>\n",
       "      <th>52</th>\n",
       "      <td>4.625000</td>\n",
       "      <td>133.000000</td>\n",
       "      <td>81.500000</td>\n",
       "      <td>13.375000</td>\n",
       "      <td>94.500000</td>\n",
       "      <td>33.475000</td>\n",
       "      <td>0.505375</td>\n",
       "      <td>0.875000</td>\n",
       "    </tr>\n",
       "    <tr>\n",
       "      <th>53</th>\n",
       "      <td>5.400000</td>\n",
       "      <td>158.000000</td>\n",
       "      <td>79.000000</td>\n",
       "      <td>21.200000</td>\n",
       "      <td>183.000000</td>\n",
       "      <td>30.500000</td>\n",
       "      <td>0.550600</td>\n",
       "      <td>0.800000</td>\n",
       "    </tr>\n",
       "    <tr>\n",
       "      <th>54</th>\n",
       "      <td>7.000000</td>\n",
       "      <td>140.333333</td>\n",
       "      <td>89.333333</td>\n",
       "      <td>8.833333</td>\n",
       "      <td>61.000000</td>\n",
       "      <td>30.800000</td>\n",
       "      <td>0.465500</td>\n",
       "      <td>0.666667</td>\n",
       "    </tr>\n",
       "    <tr>\n",
       "      <th>55</th>\n",
       "      <td>5.500000</td>\n",
       "      <td>140.750000</td>\n",
       "      <td>70.250000</td>\n",
       "      <td>16.250000</td>\n",
       "      <td>83.750000</td>\n",
       "      <td>27.025000</td>\n",
       "      <td>0.226500</td>\n",
       "      <td>0.250000</td>\n",
       "    </tr>\n",
       "    <tr>\n",
       "      <th>56</th>\n",
       "      <td>8.000000</td>\n",
       "      <td>98.333333</td>\n",
       "      <td>76.333333</td>\n",
       "      <td>32.333333</td>\n",
       "      <td>69.000000</td>\n",
       "      <td>31.700000</td>\n",
       "      <td>0.936667</td>\n",
       "      <td>0.666667</td>\n",
       "    </tr>\n",
       "    <tr>\n",
       "      <th>57</th>\n",
       "      <td>8.800000</td>\n",
       "      <td>137.800000</td>\n",
       "      <td>76.800000</td>\n",
       "      <td>9.600000</td>\n",
       "      <td>78.000000</td>\n",
       "      <td>29.700000</td>\n",
       "      <td>0.704000</td>\n",
       "      <td>0.200000</td>\n",
       "    </tr>\n",
       "    <tr>\n",
       "      <th>58</th>\n",
       "      <td>7.142857</td>\n",
       "      <td>135.142857</td>\n",
       "      <td>78.285714</td>\n",
       "      <td>19.285714</td>\n",
       "      <td>167.857143</td>\n",
       "      <td>32.428571</td>\n",
       "      <td>0.554714</td>\n",
       "      <td>0.428571</td>\n",
       "    </tr>\n",
       "    <tr>\n",
       "      <th>59</th>\n",
       "      <td>2.333333</td>\n",
       "      <td>173.333333</td>\n",
       "      <td>74.000000</td>\n",
       "      <td>16.666667</td>\n",
       "      <td>282.000000</td>\n",
       "      <td>26.966667</td>\n",
       "      <td>0.252667</td>\n",
       "      <td>0.666667</td>\n",
       "    </tr>\n",
       "    <tr>\n",
       "      <th>60</th>\n",
       "      <td>6.000000</td>\n",
       "      <td>146.400000</td>\n",
       "      <td>80.000000</td>\n",
       "      <td>20.000000</td>\n",
       "      <td>164.200000</td>\n",
       "      <td>28.740000</td>\n",
       "      <td>0.436800</td>\n",
       "      <td>0.400000</td>\n",
       "    </tr>\n",
       "    <tr>\n",
       "      <th>61</th>\n",
       "      <td>5.500000</td>\n",
       "      <td>144.000000</td>\n",
       "      <td>76.000000</td>\n",
       "      <td>16.500000</td>\n",
       "      <td>95.000000</td>\n",
       "      <td>30.000000</td>\n",
       "      <td>0.613000</td>\n",
       "      <td>0.500000</td>\n",
       "    </tr>\n",
       "    <tr>\n",
       "      <th>62</th>\n",
       "      <td>3.750000</td>\n",
       "      <td>139.500000</td>\n",
       "      <td>71.500000</td>\n",
       "      <td>29.000000</td>\n",
       "      <td>0.000000</td>\n",
       "      <td>28.950000</td>\n",
       "      <td>0.565500</td>\n",
       "      <td>0.500000</td>\n",
       "    </tr>\n",
       "    <tr>\n",
       "      <th>63</th>\n",
       "      <td>5.500000</td>\n",
       "      <td>133.250000</td>\n",
       "      <td>78.000000</td>\n",
       "      <td>23.500000</td>\n",
       "      <td>45.000000</td>\n",
       "      <td>30.775000</td>\n",
       "      <td>0.249250</td>\n",
       "      <td>0.000000</td>\n",
       "    </tr>\n",
       "    <tr>\n",
       "      <th>64</th>\n",
       "      <td>8.000000</td>\n",
       "      <td>120.000000</td>\n",
       "      <td>78.000000</td>\n",
       "      <td>0.000000</td>\n",
       "      <td>0.000000</td>\n",
       "      <td>25.000000</td>\n",
       "      <td>0.409000</td>\n",
       "      <td>0.000000</td>\n",
       "    </tr>\n",
       "    <tr>\n",
       "      <th>65</th>\n",
       "      <td>3.333333</td>\n",
       "      <td>137.000000</td>\n",
       "      <td>78.666667</td>\n",
       "      <td>12.333333</td>\n",
       "      <td>0.000000</td>\n",
       "      <td>31.600000</td>\n",
       "      <td>0.259000</td>\n",
       "      <td>0.000000</td>\n",
       "    </tr>\n",
       "    <tr>\n",
       "      <th>66</th>\n",
       "      <td>5.000000</td>\n",
       "      <td>157.000000</td>\n",
       "      <td>86.000000</td>\n",
       "      <td>0.000000</td>\n",
       "      <td>0.000000</td>\n",
       "      <td>30.375000</td>\n",
       "      <td>0.408500</td>\n",
       "      <td>0.500000</td>\n",
       "    </tr>\n",
       "    <tr>\n",
       "      <th>67</th>\n",
       "      <td>4.000000</td>\n",
       "      <td>132.333333</td>\n",
       "      <td>72.666667</td>\n",
       "      <td>0.000000</td>\n",
       "      <td>0.000000</td>\n",
       "      <td>28.766667</td>\n",
       "      <td>0.602000</td>\n",
       "      <td>0.333333</td>\n",
       "    </tr>\n",
       "    <tr>\n",
       "      <th>68</th>\n",
       "      <td>8.000000</td>\n",
       "      <td>91.000000</td>\n",
       "      <td>82.000000</td>\n",
       "      <td>0.000000</td>\n",
       "      <td>0.000000</td>\n",
       "      <td>35.600000</td>\n",
       "      <td>0.587000</td>\n",
       "      <td>0.000000</td>\n",
       "    </tr>\n",
       "    <tr>\n",
       "      <th>69</th>\n",
       "      <td>5.000000</td>\n",
       "      <td>134.000000</td>\n",
       "      <td>81.000000</td>\n",
       "      <td>0.000000</td>\n",
       "      <td>0.000000</td>\n",
       "      <td>13.400000</td>\n",
       "      <td>0.413000</td>\n",
       "      <td>0.000000</td>\n",
       "    </tr>\n",
       "    <tr>\n",
       "      <th>70</th>\n",
       "      <td>4.000000</td>\n",
       "      <td>145.000000</td>\n",
       "      <td>82.000000</td>\n",
       "      <td>18.000000</td>\n",
       "      <td>0.000000</td>\n",
       "      <td>32.500000</td>\n",
       "      <td>0.235000</td>\n",
       "      <td>1.000000</td>\n",
       "    </tr>\n",
       "    <tr>\n",
       "      <th>72</th>\n",
       "      <td>2.000000</td>\n",
       "      <td>119.000000</td>\n",
       "      <td>0.000000</td>\n",
       "      <td>0.000000</td>\n",
       "      <td>0.000000</td>\n",
       "      <td>19.600000</td>\n",
       "      <td>0.832000</td>\n",
       "      <td>0.000000</td>\n",
       "    </tr>\n",
       "    <tr>\n",
       "      <th>81</th>\n",
       "      <td>9.000000</td>\n",
       "      <td>134.000000</td>\n",
       "      <td>74.000000</td>\n",
       "      <td>33.000000</td>\n",
       "      <td>60.000000</td>\n",
       "      <td>25.900000</td>\n",
       "      <td>0.460000</td>\n",
       "      <td>0.000000</td>\n",
       "    </tr>\n",
       "  </tbody>\n",
       "</table>\n",
       "</div>"
      ],
      "text/plain": [
       "     Pregnancies     Glucose  BloodPressure  SkinThickness     Insulin  \\\n",
       "Age                                                                      \n",
       "21      1.079365  108.317460      65.936508      19.349206   73.634921   \n",
       "22      1.555556  108.208333      63.722222      20.486111   74.486111   \n",
       "23      1.578947  111.578947      64.315789      22.368421  118.026316   \n",
       "24      1.891304  117.891304      64.956522      25.934783   88.021739   \n",
       "25      1.770833  110.083333      59.666667      23.958333   82.895833   \n",
       "26      1.969697  118.212121      64.181818      23.666667   90.878788   \n",
       "27      2.562500  115.281250      73.500000      18.375000   63.125000   \n",
       "28      3.028571  119.914286      68.314286      23.628571   94.600000   \n",
       "29      3.310345  127.379310      68.241379      21.000000   88.793103   \n",
       "30      3.619048  122.285714      64.857143      18.904762   82.666667   \n",
       "31      3.875000  126.958333      64.375000      20.000000  111.166667   \n",
       "32      4.437500  116.312500      70.062500      18.187500   35.812500   \n",
       "33      4.058824  122.882353      65.647059      21.705882   85.588235   \n",
       "34      5.857143  131.857143      74.000000      18.714286  148.071429   \n",
       "35      5.000000  121.400000      75.600000      22.600000   75.000000   \n",
       "36      5.187500  132.437500      69.125000      19.187500   65.812500   \n",
       "37      5.263158  130.157895      75.947368      18.315789   59.263158   \n",
       "38      6.875000  121.125000      71.125000      19.625000   33.500000   \n",
       "39      7.416667  126.750000      72.666667      26.083333   72.416667   \n",
       "40      6.230769  130.923077      69.230769      24.230769   72.307692   \n",
       "41      6.500000  129.090909      67.590909      17.409091   38.818182   \n",
       "42      6.888889  109.555556      73.388889      19.222222   61.277778   \n",
       "43      7.769231  133.000000      78.461538      27.846154  125.153846   \n",
       "44      7.250000  124.375000      61.750000       4.625000   32.250000   \n",
       "45      7.333333  131.200000      83.066667      20.600000   31.133333   \n",
       "46      6.384615  105.923077      76.000000      24.153846  112.307692   \n",
       "47      8.333333  137.000000      78.333333      14.500000   49.166667   \n",
       "48      8.800000  107.600000      78.400000      23.400000   52.000000   \n",
       "49      7.600000  153.000000      81.400000      21.600000   55.200000   \n",
       "50      6.750000  138.250000      78.250000      16.000000   26.375000   \n",
       "51      8.625000  147.625000      84.500000      21.875000  129.375000   \n",
       "52      4.625000  133.000000      81.500000      13.375000   94.500000   \n",
       "53      5.400000  158.000000      79.000000      21.200000  183.000000   \n",
       "54      7.000000  140.333333      89.333333       8.833333   61.000000   \n",
       "55      5.500000  140.750000      70.250000      16.250000   83.750000   \n",
       "56      8.000000   98.333333      76.333333      32.333333   69.000000   \n",
       "57      8.800000  137.800000      76.800000       9.600000   78.000000   \n",
       "58      7.142857  135.142857      78.285714      19.285714  167.857143   \n",
       "59      2.333333  173.333333      74.000000      16.666667  282.000000   \n",
       "60      6.000000  146.400000      80.000000      20.000000  164.200000   \n",
       "61      5.500000  144.000000      76.000000      16.500000   95.000000   \n",
       "62      3.750000  139.500000      71.500000      29.000000    0.000000   \n",
       "63      5.500000  133.250000      78.000000      23.500000   45.000000   \n",
       "64      8.000000  120.000000      78.000000       0.000000    0.000000   \n",
       "65      3.333333  137.000000      78.666667      12.333333    0.000000   \n",
       "66      5.000000  157.000000      86.000000       0.000000    0.000000   \n",
       "67      4.000000  132.333333      72.666667       0.000000    0.000000   \n",
       "68      8.000000   91.000000      82.000000       0.000000    0.000000   \n",
       "69      5.000000  134.000000      81.000000       0.000000    0.000000   \n",
       "70      4.000000  145.000000      82.000000      18.000000    0.000000   \n",
       "72      2.000000  119.000000       0.000000       0.000000    0.000000   \n",
       "81      9.000000  134.000000      74.000000      33.000000   60.000000   \n",
       "\n",
       "           BMI  DiabetesPedigreeFunction   Outcome  \n",
       "Age                                                 \n",
       "21   27.817460                  0.433825  0.079365  \n",
       "22   29.509722                  0.430625  0.152778  \n",
       "23   31.502632                  0.438579  0.184211  \n",
       "24   32.569565                  0.393565  0.173913  \n",
       "25   31.943750                  0.600500  0.291667  \n",
       "26   34.915152                  0.413455  0.242424  \n",
       "27   31.950000                  0.471750  0.250000  \n",
       "28   33.642857                  0.459629  0.285714  \n",
       "29   33.541379                  0.408897  0.448276  \n",
       "30   30.033333                  0.367238  0.285714  \n",
       "31   34.016667                  0.589583  0.541667  \n",
       "32   32.318750                  0.613250  0.562500  \n",
       "33   32.335294                  0.734176  0.588235  \n",
       "34   31.164286                  0.649857  0.285714  \n",
       "35   33.780000                  0.454000  0.500000  \n",
       "36   31.718750                  0.472875  0.625000  \n",
       "37   32.078947                  0.414632  0.315789  \n",
       "38   35.568750                  0.413938  0.625000  \n",
       "39   31.983333                  0.605917  0.250000  \n",
       "40   33.538462                  0.376077  0.461538  \n",
       "41   35.259091                  0.396273  0.590909  \n",
       "42   34.983333                  0.388000  0.388889  \n",
       "43   36.892308                  0.450846  0.846154  \n",
       "44   34.162500                  0.668375  0.625000  \n",
       "45   34.960000                  0.496467  0.533333  \n",
       "46   34.523077                  0.426846  0.538462  \n",
       "47   34.566667                  0.355333  0.666667  \n",
       "48   29.980000                  0.456800  0.200000  \n",
       "49   32.020000                  0.612000  0.600000  \n",
       "50   31.225000                  0.470125  0.625000  \n",
       "51   33.975000                  0.615250  0.625000  \n",
       "52   33.475000                  0.505375  0.875000  \n",
       "53   30.500000                  0.550600  0.800000  \n",
       "54   30.800000                  0.465500  0.666667  \n",
       "55   27.025000                  0.226500  0.250000  \n",
       "56   31.700000                  0.936667  0.666667  \n",
       "57   29.700000                  0.704000  0.200000  \n",
       "58   32.428571                  0.554714  0.428571  \n",
       "59   26.966667                  0.252667  0.666667  \n",
       "60   28.740000                  0.436800  0.400000  \n",
       "61   30.000000                  0.613000  0.500000  \n",
       "62   28.950000                  0.565500  0.500000  \n",
       "63   30.775000                  0.249250  0.000000  \n",
       "64   25.000000                  0.409000  0.000000  \n",
       "65   31.600000                  0.259000  0.000000  \n",
       "66   30.375000                  0.408500  0.500000  \n",
       "67   28.766667                  0.602000  0.333333  \n",
       "68   35.600000                  0.587000  0.000000  \n",
       "69   13.400000                  0.413000  0.000000  \n",
       "70   32.500000                  0.235000  1.000000  \n",
       "72   19.600000                  0.832000  0.000000  \n",
       "81   25.900000                  0.460000  0.000000  "
      ]
     },
     "execution_count": 61,
     "metadata": {},
     "output_type": "execute_result"
    }
   ],
   "source": [
    "data.groupby('Age').mean()"
   ]
  },
  {
   "cell_type": "code",
   "execution_count": 62,
   "metadata": {},
   "outputs": [
    {
     "data": {
      "text/plain": [
       "0    500\n",
       "1    268\n",
       "Name: Outcome, dtype: int64"
      ]
     },
     "execution_count": 62,
     "metadata": {},
     "output_type": "execute_result"
    }
   ],
   "source": [
    "data['Outcome'].value_counts()"
   ]
  },
  {
   "cell_type": "markdown",
   "metadata": {},
   "source": [
    "\n",
    "<h2 style='color:purple' align='center'>0 means no DIABETED</h2>\n",
    "<h2 style='color:red' align='center'>1 means patient with  DIABETED</h2>"
   ]
  },
  {
   "cell_type": "markdown",
   "metadata": {},
   "source": [
    "# Data Analysis:"
   ]
  },
  {
   "cell_type": "markdown",
   "metadata": {},
   "source": [
    "## Countplot:"
   ]
  },
  {
   "cell_type": "code",
   "execution_count": 63,
   "metadata": {},
   "outputs": [
    {
     "data": {
      "image/png": "[encoded data removed]",
      "text/plain": [
       "<Figure size 432x288 with 1 Axes>"
      ]
     },
     "metadata": {},
     "output_type": "display_data"
    }
   ],
   "source": [
    "sns.countplot(data['Age'])\n",
    "plt.show()"
   ]
  },
  {
   "cell_type": "code",
   "execution_count": 64,
   "metadata": {},
   "outputs": [
    {
     "data": {
      "image/png": "[encoded data removed]",
      "text/plain": [
       "<Figure size 432x288 with 1 Axes>"
      ]
     },
     "metadata": {},
     "output_type": "display_data"
    }
   ],
   "source": [
    "sns.countplot(data['Pregnancies'])\n",
    "plt.show()"
   ]
  },
  {
   "cell_type": "code",
   "execution_count": 65,
   "metadata": {},
   "outputs": [
    {
     "data": {
      "image/png": "[encoded data removed]",
      "text/plain": [
       "<Figure size 432x288 with 1 Axes>"
      ]
     },
     "metadata": {},
     "output_type": "display_data"
    }
   ],
   "source": [
    "sns.countplot(data['BMI'])\n",
    "plt.show()"
   ]
  },
  {
   "cell_type": "code",
   "execution_count": 66,
   "metadata": {},
   "outputs": [
    {
     "data": {
      "image/png": "[encoded data removed]",
      "text/plain": [
       "<Figure size 432x288 with 1 Axes>"
      ]
     },
     "metadata": {},
     "output_type": "display_data"
    }
   ],
   "source": [
    "sns.countplot(data['Outcome'])\n",
    "plt.show()"
   ]
  },
  {
   "cell_type": "markdown",
   "metadata": {},
   "source": [
    "# Distplot:"
   ]
  },
  {
   "cell_type": "code",
   "execution_count": 67,
   "metadata": {},
   "outputs": [
    {
     "data": {
      "text/plain": [
       "<AxesSubplot:xlabel='Outcome', ylabel='Density'>"
      ]
     },
     "execution_count": 67,
     "metadata": {},
     "output_type": "execute_result"
    },
    {
     "data": {
      "image/png": "[encoded data removed]",
      "text/plain": [
       "<Figure size 432x288 with 1 Axes>"
      ]
     },
     "metadata": {},
     "output_type": "display_data"
    }
   ],
   "source": [
    "sns.distplot(data['Outcome'])"
   ]
  },
  {
   "cell_type": "code",
   "execution_count": 68,
   "metadata": {},
   "outputs": [
    {
     "data": {
      "text/plain": [
       "<AxesSubplot:xlabel='BMI', ylabel='Density'>"
      ]
     },
     "execution_count": 68,
     "metadata": {},
     "output_type": "execute_result"
    },
    {
     "data": {
      "image/png": "[encoded data removed]",
      "text/plain": [
       "<Figure size 432x288 with 1 Axes>"
      ]
     },
     "metadata": {},
     "output_type": "display_data"
    }
   ],
   "source": [
    "sns.distplot(data['BMI'])"
   ]
  },
  {
   "cell_type": "code",
   "execution_count": 69,
   "metadata": {},
   "outputs": [
    {
     "data": {
      "text/plain": [
       "<AxesSubplot:xlabel='Pregnancies', ylabel='Density'>"
      ]
     },
     "execution_count": 69,
     "metadata": {},
     "output_type": "execute_result"
    },
    {
     "data": {
      "image/png": "[encoded data removed]",
      "text/plain": [
       "<Figure size 432x288 with 1 Axes>"
      ]
     },
     "metadata": {},
     "output_type": "display_data"
    }
   ],
   "source": [
    "sns.distplot(data['Pregnancies'])"
   ]
  },
  {
   "cell_type": "code",
   "execution_count": 70,
   "metadata": {},
   "outputs": [
    {
     "data": {
      "text/plain": [
       "<AxesSubplot:xlabel='Age', ylabel='Density'>"
      ]
     },
     "execution_count": 70,
     "metadata": {},
     "output_type": "execute_result"
    },
    {
     "data": {
      "image/png": "[encoded data removed]",
      "text/plain": [
       "<Figure size 432x288 with 1 Axes>"
      ]
     },
     "metadata": {},
     "output_type": "display_data"
    }
   ],
   "source": [
    "sns.distplot(data['Age'])"
   ]
  },
  {
   "cell_type": "code",
   "execution_count": 71,
   "metadata": {},
   "outputs": [
    {
     "data": {
      "text/plain": [
       "<AxesSubplot:xlabel='BloodPressure', ylabel='Density'>"
      ]
     },
     "execution_count": 71,
     "metadata": {},
     "output_type": "execute_result"
    },
    {
     "data": {
      "image/png": "[encoded data removed]",
      "text/plain": [
       "<Figure size 432x288 with 1 Axes>"
      ]
     },
     "metadata": {},
     "output_type": "display_data"
    }
   ],
   "source": [
    "sns.distplot(data['BloodPressure'])"
   ]
  },
  {
   "cell_type": "code",
   "execution_count": 72,
   "metadata": {},
   "outputs": [
    {
     "data": {
      "text/plain": [
       "<AxesSubplot:xlabel='SkinThickness', ylabel='Density'>"
      ]
     },
     "execution_count": 72,
     "metadata": {},
     "output_type": "execute_result"
    },
    {
     "data": {
      "image/png": "[encoded data removed]",
      "text/plain": [
       "<Figure size 432x288 with 1 Axes>"
      ]
     },
     "metadata": {},
     "output_type": "display_data"
    }
   ],
   "source": [
    "sns.distplot(data['SkinThickness'])"
   ]
  },
  {
   "cell_type": "markdown",
   "metadata": {},
   "source": [
    "# Heatmap for expressing correlation"
   ]
  },
  {
   "cell_type": "code",
   "execution_count": 76,
   "metadata": {},
   "outputs": [
    {
     "data": {
      "text/plain": [
       "<AxesSubplot:>"
      ]
     },
     "execution_count": 76,
     "metadata": {},
     "output_type": "execute_result"
    },
    {
     "data": {
      "image/png": "[encoded data removed]",
      "text/plain": [
       "<Figure size 432x288 with 2 Axes>"
      ]
     },
     "metadata": {},
     "output_type": "display_data"
    }
   ],
   "source": [
    "corr = data.corr()\n",
    "sns.heatmap(corr,annot=True)"
   ]
  },
  {
   "cell_type": "markdown",
   "metadata": {},
   "source": [
    "# Feature Selection"
   ]
  },
  {
   "cell_type": "code",
   "execution_count": 83,
   "metadata": {},
   "outputs": [
    {
     "name": "stdout",
     "output_type": "stream",
     "text": [
      "Features Extraction Sucessfull\n"
     ]
    }
   ],
   "source": [
    "#lets extract features and targets\n",
    "X = data.drop(columns=['Outcome'])\n",
    "Y = data['Outcome']\n",
    "print(\"Features Extraction Sucessfull\")"
   ]
  },
  {
   "cell_type": "markdown",
   "metadata": {},
   "source": [
    "# Feature Importance"
   ]
  },
  {
   "cell_type": "code",
   "execution_count": 84,
   "metadata": {},
   "outputs": [
    {
     "name": "stdout",
     "output_type": "stream",
     "text": [
      "[0.1098642  0.23582965 0.09835589 0.07997468 0.075298   0.14356218\n",
      " 0.11860896 0.13850643]\n"
     ]
    }
   ],
   "source": [
    "from sklearn.linear_model import LogisticRegression\n",
    "model = LogisticRegression()\n",
    "\n",
    "from sklearn.ensemble import ExtraTreesClassifier\n",
    "classifiern = ExtraTreesClassifier()\n",
    "classifiern.fit(X,Y)\n",
    "score = classifiern.feature_importances_\n",
    "print(score)"
   ]
  },
  {
   "cell_type": "markdown",
   "metadata": {},
   "source": [
    "# Splitting Dataset"
   ]
  },
  {
   "cell_type": "code",
   "execution_count": 85,
   "metadata": {},
   "outputs": [],
   "source": [
    "from sklearn.model_selection import train_test_split\n",
    "X_train,X_test,Y_train,Y_test=train_test_split(X,Y,test_size=0.2)"
   ]
  },
  {
   "cell_type": "markdown",
   "metadata": {},
   "source": [
    "# Using Logistic Regression"
   ]
  },
  {
   "cell_type": "code",
   "execution_count": 86,
   "metadata": {},
   "outputs": [
    {
     "name": "stdout",
     "output_type": "stream",
     "text": [
      "Accuracy Score: 0.8181818181818182\n"
     ]
    }
   ],
   "source": [
    "from sklearn.linear_model import LogisticRegression\n",
    "model = LogisticRegression()\n",
    "model.fit(X_train,Y_train)\n",
    "Y_pred = model.predict(X_test)\n",
    "\n",
    "from sklearn.metrics import accuracy_score,confusion_matrix\n",
    "print(\"Accuracy Score:\",accuracy_score(Y_test,Y_pred))"
   ]
  },
  {
   "cell_type": "code",
   "execution_count": 87,
   "metadata": {},
   "outputs": [
    {
     "name": "stdout",
     "output_type": "stream",
     "text": [
      "[[105   9]\n",
      " [ 19  21]]\n"
     ]
    }
   ],
   "source": [
    "confusion_mat = confusion_matrix(Y_test,Y_pred)\n",
    "print(confusion_mat)"
   ]
  },
  {
   "cell_type": "markdown",
   "metadata": {},
   "source": [
    "# Using KNN"
   ]
  },
  {
   "cell_type": "code",
   "execution_count": 88,
   "metadata": {},
   "outputs": [
    {
     "name": "stdout",
     "output_type": "stream",
     "text": [
      "Accuracy Score: 0.7272727272727273\n"
     ]
    }
   ],
   "source": [
    "from sklearn.neighbors import KNeighborsClassifier\n",
    "model = KNeighborsClassifier(n_neighbors=3)\n",
    "model.fit(X_train,Y_train)\n",
    "y_pred = model.predict(X_test)\n",
    "\n",
    "from sklearn.metrics import accuracy_score\n",
    "print(\"Accuracy Score:\",accuracy_score(Y_test,y_pred))"
   ]
  },
  {
   "cell_type": "markdown",
   "metadata": {},
   "source": [
    "# Using SVC"
   ]
  },
  {
   "cell_type": "code",
   "execution_count": 89,
   "metadata": {},
   "outputs": [
    {
     "name": "stdout",
     "output_type": "stream",
     "text": [
      "Accuracy Score: 0.8116883116883117\n"
     ]
    }
   ],
   "source": [
    "from sklearn.svm import SVC\n",
    "model = SVC()\n",
    "model.fit(X_train,Y_train)\n",
    "pred_y = model.predict(X_test)\n",
    "\n",
    "from sklearn.metrics import accuracy_score\n",
    "print(\"Accuracy Score:\",accuracy_score(Y_test,pred_y))"
   ]
  },
  {
   "cell_type": "markdown",
   "metadata": {},
   "source": [
    "# Using Decision Tree"
   ]
  },
  {
   "cell_type": "code",
   "execution_count": 90,
   "metadata": {},
   "outputs": [
    {
     "name": "stdout",
     "output_type": "stream",
     "text": [
      "Accuracy Score: 0.7012987012987013\n"
     ]
    }
   ],
   "source": [
    "from sklearn.tree import DecisionTreeClassifier\n",
    "model = DecisionTreeClassifier(criterion='entropy',random_state=7)\n",
    "model.fit(X_train,Y_train)\n",
    "y_pred = model.predict(X_test)\n",
    "\n",
    "from sklearn.metrics import accuracy_score\n",
    "print(\"Accuracy Score:\",accuracy_score(Y_test,y_pred))"
   ]
  }
 ],
 "metadata": {
  "kernelspec": {
   "display_name": "Python 3 (ipykernel)",
   "language": "python",
   "name": "python3"
  },
  "language_info": {
   "codemirror_mode": {
    "name": "ipython",
    "version": 3
   },
   "file_extension": ".py",
   "mimetype": "text/x-python",
   "name": "python",
   "nbconvert_exporter": "python",
   "pygments_lexer": "ipython3",
   "version": "3.9.12"
  }
 },
 "nbformat": 4,
 "nbformat_minor": 4
}
